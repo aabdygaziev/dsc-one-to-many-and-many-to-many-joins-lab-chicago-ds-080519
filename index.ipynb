{
 "cells": [
  {
   "cell_type": "markdown",
   "metadata": {},
   "source": [
    "# One-to-Many and Many-to-Many Joins - Lab"
   ]
  },
  {
   "cell_type": "markdown",
   "metadata": {},
   "source": [
    "## Introduction"
   ]
  },
  {
   "cell_type": "markdown",
   "metadata": {},
   "source": [
    "In this lab, you'll practice your knowledge on one-to-many and many-to-many relationships!"
   ]
  },
  {
   "cell_type": "markdown",
   "metadata": {},
   "source": [
    "## Objectives"
   ]
  },
  {
   "cell_type": "markdown",
   "metadata": {},
   "source": [
    "You will be able to:\n",
    "- Query data using one-to-many and many-to-many joins\n",
    "- Predict the resulting size of one-to-many and many-to-many joins"
   ]
  },
  {
   "cell_type": "markdown",
   "metadata": {},
   "source": [
    "## One-to-Many and Many-to-Many Joins\n",
    "<img src='images/Database-Schema.png' width=\"600\">"
   ]
  },
  {
   "cell_type": "markdown",
   "metadata": {},
   "source": [
    "## Connect to the Database"
   ]
  },
  {
   "cell_type": "code",
   "execution_count": 2,
   "metadata": {},
   "outputs": [],
   "source": [
    "import pandas as pd\n",
    "import sqlite3 \n",
    "conn = sqlite3.connect('data.sqlite')\n",
    "cur = conn.cursor()"
   ]
  },
  {
   "cell_type": "markdown",
   "metadata": {},
   "source": [
    "## Employees and their Office (a One-to-One join)\n",
    "\n",
    "Return a dataframe with all of the employees including their first name and last name along with the city and state of the office that they work out of (if they have one). Include all employees and order them by their first name, then their last name."
   ]
  },
  {
   "cell_type": "code",
   "execution_count": 8,
   "metadata": {},
   "outputs": [
    {
     "data": {
      "text/plain": [
       "[('Fixter', 'Andy', 'Sydney', ''),\n",
       " ('Bow', 'Anthony', 'San Francisco', 'CA'),\n",
       " ('Jones', 'Barry', 'London', ''),\n",
       " ('Murphy', 'Diane', 'San Francisco', 'CA'),\n",
       " ('Tseng', 'Foon Yue', 'NYC', 'NY')]"
      ]
     },
     "execution_count": 8,
     "metadata": {},
     "output_type": "execute_result"
    }
   ],
   "source": [
    "cur.execute(\"\"\"SELECT lastName, firstName, city, state FROM employees\n",
    "            JOIN offices USING(officeCode)\n",
    "            ORDER BY firstName, lastName\n",
    "            LIMIT 5;\"\"\").fetchall()"
   ]
  },
  {
   "cell_type": "markdown",
   "metadata": {},
   "source": [
    "## Customers and their Orders (a One-to-Many join)\n",
    "\n",
    "Return a dataframe with all of the customers' first and last names along with details for each of their order numbers, order dates, and statuses."
   ]
  },
  {
   "cell_type": "code",
   "execution_count": 9,
   "metadata": {},
   "outputs": [
    {
     "data": {
      "text/plain": [
       "[('Carine ', 'Schmitt', '10123', 'Shipped', '2003-05-20'),\n",
       " ('Carine ', 'Schmitt', '10298', 'Shipped', '2004-09-27'),\n",
       " ('Carine ', 'Schmitt', '10345', 'Shipped', '2004-11-25'),\n",
       " ('Jean', 'King', '10124', 'Shipped', '2003-05-21'),\n",
       " ('Jean', 'King', '10278', 'Shipped', '2004-08-06')]"
      ]
     },
     "execution_count": 9,
     "metadata": {},
     "output_type": "execute_result"
    }
   ],
   "source": [
    "# Your code here\n",
    "cur.execute(\"\"\"SELECT contactfirstName, contactlastName, orderNumber, status, orderDate\n",
    "            FROM customers\n",
    "            JOIN orders\n",
    "            USING(customerNumber) LIMIT 5;\"\"\").fetchall()"
   ]
  },
  {
   "cell_type": "markdown",
   "metadata": {},
   "source": [
    "## Customers and their Payments (another One-to-Many join)\n",
    "\n",
    "Return a dataframe with all of the customers' first and last names along with details about their payments' amount and date of payment. Sort these results in descending order by the payment amount."
   ]
  },
  {
   "cell_type": "code",
   "execution_count": 11,
   "metadata": {},
   "outputs": [
    {
     "data": {
      "text/plain": [
       "[('Carine ', 'Schmitt', '14571.44', '2003-06-05'),\n",
       " ('Carine ', 'Schmitt', '6066.78', '2004-10-19'),\n",
       " ('Carine ', 'Schmitt', '1676.14', '2004-12-18'),\n",
       " ('Jean', 'King', '32641.98', '2003-06-06'),\n",
       " ('Jean', 'King', '33347.88', '2004-08-20')]"
      ]
     },
     "execution_count": 11,
     "metadata": {},
     "output_type": "execute_result"
    }
   ],
   "source": [
    "# Your code here\n",
    "cur.execute(\"\"\"SELECT contactfirstName, contactlastName, amount, paymentDate\n",
    "            FROM customers\n",
    "            JOIN payments\n",
    "            USING(customerNumber) LIMIT 5;\"\"\").fetchall()"
   ]
  },
  {
   "cell_type": "markdown",
   "metadata": {},
   "source": [
    "## Orders, Order details and Product Details (a Many-to-Many Join)"
   ]
  },
  {
   "cell_type": "markdown",
   "metadata": {},
   "source": [
    "Return a dataframe with all of the customers' first and last names along with the product names, quantities, and date ordered for each of the customers and each of their orders. Sort these in descending order by the order date.\n",
    "\n",
    "- Note: This will require joining 4 tables! This can be tricky! Give it a shot, and if you're still stuck, turn to the next section where you'll see how to write subqueries which can make complex queries such as this much simpler!"
   ]
  },
  {
   "cell_type": "code",
   "execution_count": 14,
   "metadata": {},
   "outputs": [
    {
     "data": {
      "text/plain": [
       "[('Janine ', 'Labrune', '1962 LanciaA Delta 16V', '38', '2005-05-31'),\n",
       " ('Janine ', 'Labrune', '1957 Chevy Pickup', '33', '2005-05-31'),\n",
       " ('Janine ', 'Labrune', '1998 Chrysler Plymouth Prowler', '28', '2005-05-31'),\n",
       " ('Janine ', 'Labrune', '1964 Mercedes Tour Bus', '38', '2005-05-31'),\n",
       " ('Janine ', 'Labrune', '1926 Ford Fire Engine', '19', '2005-05-31')]"
      ]
     },
     "execution_count": 14,
     "metadata": {},
     "output_type": "execute_result"
    }
   ],
   "source": [
    "# Your code here\n",
    "cur.execute(\"\"\"SELECT contactfirstName, contactlastName, productName, quantityOrdered, orderDate \n",
    "            FROM customers\n",
    "            JOIN orders\n",
    "            USING(customerNumber)\n",
    "            JOIN orderdetails\n",
    "            USING(orderNumber)\n",
    "            JOIN products\n",
    "            USING(productCode)\n",
    "            ORDER BY orderDate DESC\n",
    "            LIMIT 5;\"\"\").fetchall()"
   ]
  },
  {
   "cell_type": "markdown",
   "metadata": {},
   "source": [
    "## Summary"
   ]
  },
  {
   "cell_type": "markdown",
   "metadata": {},
   "source": [
    "In this lab, you practiced your knowledge on one-to-many and many-to-many relationships!"
   ]
  }
 ],
 "metadata": {
  "kernelspec": {
   "display_name": "Python 3",
   "language": "python",
   "name": "python3"
  },
  "language_info": {
   "codemirror_mode": {
    "name": "ipython",
    "version": 3
   },
   "file_extension": ".py",
   "mimetype": "text/x-python",
   "name": "python",
   "nbconvert_exporter": "python",
   "pygments_lexer": "ipython3",
   "version": "3.7.3"
  },
  "toc": {
   "base_numbering": 1,
   "nav_menu": {},
   "number_sections": true,
   "sideBar": true,
   "skip_h1_title": false,
   "title_cell": "Table of Contents",
   "title_sidebar": "Contents",
   "toc_cell": false,
   "toc_position": {},
   "toc_section_display": true,
   "toc_window_display": false
  }
 },
 "nbformat": 4,
 "nbformat_minor": 4
}
